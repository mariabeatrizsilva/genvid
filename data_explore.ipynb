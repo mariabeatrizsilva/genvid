{
 "cells": [
  {
   "cell_type": "code",
   "execution_count": null,
   "metadata": {},
   "outputs": [],
   "source": [
    "import numpy as np\n",
    "import pandas as pd\n",
    "from datasets import load_dataset\n",
    "\n",
    "# Load the dataset from Hugging Face\n",
    "dataset = load_dataset(\"WenhaoWang/VidProM\")\n",
    "\n",
    "# Convert dataset to pandas DataFrame\n",
    "df = pd.DataFrame(dataset['train'])  # Ensure the correct split is used\n",
    "# df = pd.read_csv(\"VidProM_unique.csv\")"
   ]
  },
  {
   "cell_type": "code",
   "execution_count": null,
   "metadata": {},
   "outputs": [
    {
     "name": "stdout",
     "output_type": "stream",
     "text": []
    }
   ],
   "source": [
    "# Display the first few rows of the dataframe\n",
    "df.head(10)"
   ]
  },
  {
   "cell_type": "code",
   "execution_count": null,
   "metadata": {},
   "outputs": [
    {
     "name": "stdout",
     "output_type": "stream",
     "text": []
    }
   ],
   "source": [
    "df.columns"
   ]
  },
  {
   "cell_type": "code",
   "execution_count": 5,
   "metadata": {},
   "outputs": [
    {
     "name": "stdout",
     "output_type": "stream",
     "text": []
    }
   ],
   "source": [
    "df.columns"
   ]
  },
  {
   "cell_type": "markdown",
   "metadata": {},
   "source": []
  },
  {
   "cell_type": "code",
   "execution_count": null,
   "metadata": {},
   "outputs": [],
   "source": []
  },
  {
   "cell_type": "code",
   "execution_count": null,
   "metadata": {},
   "outputs": [],
   "source": []
  },
  {
   "cell_type": "code",
   "execution_count": 6,
   "metadata": {},
   "outputs": [
    {
     "name": "stdout",
     "output_type": "stream",
     "text": []
    }
   ],
   "source": [
    "# making a df with only the prompts and video ids (uuid)\n",
    "dd = df[['prompt', 'uuid']]\n",
    "dd.head()"
   ]
  },
  {
   "cell_type": "code",
   "execution_count": 19,
   "metadata": {},
   "outputs": [
    {
     "name": "stdout",
     "output_type": "stream",
     "text": []
    }
   ],
   "source": [
    "print(f\"There are {len(dd['prompt'])} unique prompts\")\n",
    "# print(f\"We wil start by sampling {np.floor(.0001 * len(dd['prompt']))} prompts\")"
   ]
  },
  {
   "cell_type": "code",
   "execution_count": 22,
   "metadata": {},
   "outputs": [
    {
     "name": "stdout",
     "output_type": "stream",
     "text": []
    },
    {
     "name": "stdout",
     "output_type": "stream",
     "text": []
    }
   ],
   "source": [
    "# choosing the first 100 prompts to start with\n",
    "first = dd.head(100)\n",
    "display(first)\n",
    "for i, row in first.iterrows():\n",
    "    print(f\"Prompt: {row['prompt']}\")\n",
    "    pass"
   ]
  },
  {
   "cell_type": "markdown",
   "metadata": {},
   "source": [
    "## Notes\n",
    "- can see that prompts have different formats \n",
    "    - some specifyu styles of videos, some specify screen size\n",
    "- prompt length varies a LOT \n",
    "- not consistent capitalizization & some have symbols -- i.e &quot"
   ]
  },
  {
   "cell_type": "code",
   "execution_count": 31,
   "metadata": {},
   "outputs": [
    {
     "name": "stdout",
     "output_type": "stream",
     "text": []
    },
    {
     "name": "stdout",
     "output_type": "stream",
     "text": []
    },
    {
     "name": "stdout",
     "output_type": "stream",
     "text": []
    }
   ],
   "source": [
    "# adding length of prompt to the dataframe\n",
    "first['prompt_length'] = first['prompt'].apply(lambda x: len(x.split()))\n",
    "display(first['prompt_length'].describe())\n",
    "# checking the distribution of prompt lengths\n",
    "import matplotlib.pyplot as plt\n",
    "import seaborn as sns\n",
    "plt.figure(figsize=(10, 6))\n",
    "plt.bar(range(len(first['prompt_length'])), first['prompt_length'])\n",
    "plt.title('Distribution of Prompt Lengths')\n",
    "plt.show()"
   ]
  },
  {
   "cell_type": "markdown",
   "metadata": {},
   "source": [
    "## Watching the videos\n",
    "\n",
    "I was struggluing to find the video from the uuid, so instead i found the uuid/prompt fromnt he video -- after downloading them "
   ]
  },
  {
   "cell_type": "code",
   "execution_count": 59,
   "metadata": {},
   "outputs": [],
   "source": [
    "video_id = '0a0a5078-b2b1-56da-92ca-a0fb07bc33c0'\n",
    "def prompt_from_id(video_id):\n",
    "    \"\"\"\n",
    "    Given a video_id (uuid), return the corresponding prompt from the dataframe.\n",
    "    \"\"\"\n",
    "    entry = dd[dd['uuid'] == video_id]\n",
    "    if not entry.empty:\n",
    "        return entry['prompt'].values[0], int(entry.index[0])  # Return the prompt and its index in the dataframe\n",
    "    else:\n",
    "        return None"
   ]
  },
  {
   "cell_type": "code",
   "execution_count": 60,
   "metadata": {},
   "outputs": [
    {
     "name": "stdout",
     "output_type": "stream",
     "text": []
    }
   ],
   "source": [
    "result = prompt_from_id(video_id)\n",
    "print(result)"
   ]
  },
  {
   "cell_type": "code",
   "execution_count": 84,
   "metadata": {},
   "outputs": [],
   "source": [
    "def process_video_files(video_files, file_beginnings):\n",
    "    \"\"\"\n",
    "    Processes video files, extracts UUIDs, prefixes, and associated prompts,\n",
    "    and stores them in a structured data format.\n",
    "\n",
    "    Args:\n",
    "        video_files (list): A list of video file names.\n",
    "        file_beginnings (list): A list of prefixes for the video files.\n",
    "        prompt_from_id (function): A function that takes a UUID and returns a tuple\n",
    "                                    (prompt, index) or None if no prompt is found.\n",
    "\n",
    "    Returns:\n",
    "        list: A list of dictionaries, where each dictionary contains the UUID, prefix, and prompt.\n",
    "    \"\"\"\n",
    "\n",
    "    data = []  # Initialize an empty list to store the structured data\n",
    "\n",
    "    for file in video_files:\n",
    "        for prefix in file_beginnings:\n",
    "            if file.startswith(prefix):\n",
    "                uuid = file[len(prefix):].split('.')[0]  # Remove prefix and file extension\n",
    "\n",
    "                prompt_info = prompt_from_id(uuid)\n",
    "                if prompt_info:\n",
    "                    prompt, index = prompt_info\n",
    "                    data.append({\n",
    "                        \"uuid\": uuid,\n",
    "                        \"prefix\": prefix,\n",
    "                        \"prompt\": prompt\n",
    "                    })\n",
    "                else:\n",
    "                    data.append({\n",
    "                        \"uuid\": uuid,\n",
    "                        \"prefix\": prefix,\n",
    "                        \"prompt\": None\n",
    "                    })\n",
    "                    print(f\"No prompt found for uuid: {uuid}\")\n",
    "\n",
    "                break  # Move to the next file after finding a matching prefix\n",
    "    # save data to csv and return \n",
    "    data_df = pd.DataFrame(data)\n",
    "    data_df.to_csv('processed_video_data.csv', index=False)  # Save to CSV for future use\n",
    "    return data"
   ]
  },
  {
   "cell_type": "code",
   "execution_count": 85,
   "metadata": {},
   "outputs": [],
   "source": [
    "video_folder = '/home/bia/Documents/genvid/sample_videos' # This is where the sample videos are stored\n",
    "import os\n",
    "\n",
    "# print the contents of the video folder\n",
    "def list_video_files(folder):\n",
    "    \"\"\"\n",
    "    List all video files in the given folder.\n",
    "    \"\"\"\n",
    "    if not os.path.exists(folder):\n",
    "        print(f\"Folder {folder} does not exist.\")\n",
    "        return []\n",
    "    \n",
    "    files = os.listdir(folder)\n",
    "    video_files = [f for f in files if f.endswith(('.mp4', '.avi', '.mov', '.mkv'))]\n",
    "    return video_files"
   ]
  },
  {
   "cell_type": "code",
   "execution_count": 86,
   "metadata": {},
   "outputs": [],
   "source": [
    "file_beginnings = ['t2vz-', 'pika-', 'vc-'] # these are the prefixes of the video files in the sample folder\n",
    "video_files = list_video_files(video_folder)\n",
    "\n",
    "result = process_video_files(video_files, file_beginnings)"
   ]
  },
  {
   "cell_type": "markdown",
   "metadata": {},
   "source": [
    "### Notes\n",
    "\n",
    "looking at the videos in the sample, we can see that \n",
    "- some videos are watermarked \n",
    "- the videos from t2vz are not the most realistic -- for example, a video uuid: 0a64622a-f379-5f6d-a7f5-4d8e9d561f37 from t2vz had prompt: Scene 7: Masked Dance  Brief snippets of hands and elegant clothing, showcasing the character dancing with different masked partners.  \n",
    "looks like\n",
    "<img src = \"t2vz_mask_example.png\" width = \"200px\"/>"
   ]
  },
  {
   "cell_type": "code",
   "execution_count": null,
   "metadata": {},
   "outputs": [
    {
     "name": "stdout",
     "output_type": "stream",
     "text": []
    }
   ],
   "source": [
    "baby_example = process_video_files(['t2vz-0a1e22f6-5863-5c21-8514-78baee8d8a92.mp4'], file_beginnings)  # Call the function to process video files\n",
    "print(baby_example)"
   ]
  },
  {
   "cell_type": "markdown",
   "metadata": {},
   "source": [
    "this video is also pretty unrealistic -- a lot of the t2vz videos are more choppy"
   ]
  },
  {
   "cell_type": "code",
   "execution_count": 82,
   "metadata": {},
   "outputs": [
    {
     "name": "stdout",
     "output_type": "stream",
     "text": []
    }
   ],
   "source": [
    "video = ['t2vz-0abf1bfb-7300-5912-886a-b7b785cb7712.mp4']\n",
    "print(process_video_files(video, file_beginnings))  # Call the function to process video files and get structured data\n"
   ]
  },
  {
   "cell_type": "markdown",
   "metadata": {},
   "source": [
    "## Looking at the prompts\n",
    "- using the prompts generated fromt hwe vdieos we can watch so we can see them all"
   ]
  },
  {
   "cell_type": "code",
   "execution_count": null,
   "metadata": {},
   "outputs": [],
   "source": []
  }
 ],
 "metadata": {
  "kernelspec": {
   "display_name": "genvid",
   "language": "python",
   "name": "python3"
  },
  "language_info": {
   "codemirror_mode": {
    "name": "ipython",
    "version": 3
   },
   "file_extension": ".py",
   "mimetype": "text/x-python",
   "name": "python",
   "nbconvert_exporter": "python",
   "pygments_lexer": "ipython3",
   "version": "3.13.2"
  }
 },
 "nbformat": 4,
 "nbformat_minor": 2
}
